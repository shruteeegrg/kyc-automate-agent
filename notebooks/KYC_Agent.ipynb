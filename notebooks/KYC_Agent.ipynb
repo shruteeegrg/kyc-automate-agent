{
  "cells": [
    {
      "cell_type": "code",
      "execution_count": null,
      "metadata": {
        "collapsed": true,
        "id": "jIIRFgsiYTQ1"
      },
      "outputs": [],
      "source": [
        "!pip install deepface\n",
        "!pip install easyocr\n",
        "!pip install gradio\n",
        "!pip install regex"
      ]
    },
    {
      "cell_type": "code",
      "execution_count": null,
      "metadata": {
        "id": "Yutw2rKJYU7F"
      },
      "outputs": [],
      "source": [
        "import gradio as gr\n",
        "import easyocr\n",
        "import numpy as np\n",
        "import regex as re\n",
        "from datetime import datetime\n",
        "from deepface import DeepFace\n",
        "import warnings\n",
        "\n",
        "warnings.filterwarnings(\"ignore\", category=FutureWarning)\n",
        "warnings.filterwarnings(\"ignore\", category=UserWarning)\n"
      ]
    },
    {
      "cell_type": "code",
      "execution_count": null,
      "metadata": {
        "id": "1JqFGyOhYa30"
      },
      "outputs": [],
      "source": [
        "# Initialize the EasyOCR reader\n",
        "reader = easyocr.Reader(['en'])"
      ]
    },
    {
      "cell_type": "code",
      "execution_count": null,
      "metadata": {
        "id": "d_EbEkK1YfvB"
      },
      "outputs": [],
      "source": [
        "# STEP 3: DATA PARSING FUNCTION (Unchanged)\n",
        "def parse_kyc_details(text):\n",
        "    details = {\n",
        "        \"Name\": \"Not found\",\n",
        "        \"Document Number\": \"Not found\",\n",
        "        \"Date Of Birth\": \"Not found\",\n",
        "        \"Issue Date\": \"Not found\",\n",
        "        \"Address\": \"Not found\",\n",
        "        \"Nationality\": \"NEPALESE\"\n",
        "    }\n",
        "    name_match = re.search(r'Full Name\\s*\\n\\s*([A-Z\\s]+?)\\s*(\\n|$)', text, re.IGNORECASE)\n",
        "    if name_match:\n",
        "        details[\"Name\"] = name_match.group(1).strip()\n",
        "    doc_num_match = re.search(r'Certificate No\\s*[:.\\s]*\\n?([\\d-]+)', text, re.IGNORECASE)\n",
        "    if doc_num_match:\n",
        "        details[\"Document Number\"] = doc_num_match.group(1).strip()\n",
        "    dob_match = re.search(r'Year\\s*:\\s*(\\d{4})\\s*Month\\s*:\\s*([A-Z]{3})\\s*Day\\s*\\.?\\s*(\\d{1,2})', text, re.IGNORECASE)\n",
        "    if dob_match:\n",
        "        year, month, day = dob_match.groups()\n",
        "        details[\"Date Of Birth\"] = f\"{year}-{month}-{day}\"\n",
        "    issue_date_match = re.search(r'(\\d{4}[-.]\\d{2}[-.]\\d{2})', text)\n",
        "    if issue_date_match:\n",
        "        details[\"Issue Date\"] = issue_date_match.group(1).strip()\n",
        "    address_match = re.search(r'Permanent Address[\\s\\S]*?District\\s*:\\s*([A-Za-z]+)', text, re.IGNORECASE)\n",
        "    if address_match:\n",
        "        details[\"Address\"] = \"District: \" + address_match.group(1).strip()\n",
        "    return details"
      ]
    },
    {
      "cell_type": "code",
      "execution_count": null,
      "metadata": {
        "id": "WcmMAHrKY0fs"
      },
      "outputs": [],
      "source": [
        "def verify_faces(id_card_image, selfie_image):\n",
        "    \"\"\"\n",
        "    Compares faces using the DeepFace library.\n",
        "    \"\"\"\n",
        "    try:\n",
        "\n",
        "        result = DeepFace.verify(\n",
        "            img1_path = id_card_image,\n",
        "            img2_path = selfie_image,\n",
        "            model_name = 'VGG-Face',\n",
        "            enforce_detection = False\n",
        "        )\n",
        "\n",
        "        # Check the result from the dictionary\n",
        "        if result['verified']:\n",
        "            return \"Faces Match!\", True\n",
        "        else:\n",
        "            # Check if faces were even detected\n",
        "            if result['face_confidence'] < 0.5:\n",
        "                 return \"Face not clearly detected in one or both images.\", False\n",
        "            return \" Faces Do Not Match!\", False\n",
        "\n",
        "    except Exception as e:\n",
        "        return f\"CRITICAL ERROR during face verification: {str(e)}\", False\n",
        "\n",
        "def extract_text_from_id(id_card_image):\n",
        "    results = reader.readtext(id_card_image)\n",
        "    return \"\\n\".join([result[1] for result in results])\n",
        "\n",
        "def calculate_fraud_score(parsed_details, face_match_status):\n",
        "    score = 0\n",
        "    indicators = []\n",
        "    missing_fields = [key for key, value in parsed_details.items() if value == \"Not found\"]\n",
        "    if missing_fields:\n",
        "        score += len(missing_fields) * 15\n",
        "        indicators.append(f\"Could not extract: {', '.join(missing_fields)}\")\n",
        "    if not face_match_status:\n",
        "        score += 40\n",
        "        indicators.append(\"Face verification failed or faces did not match.\")\n",
        "    score = min(score, 100)\n",
        "    risk_level = \"🟢 Low\"\n",
        "    if 30 <= score < 60:\n",
        "        risk_level = \"🟡 Medium\"\n",
        "    elif score >= 60:\n",
        "        risk_level = \"🔴 High\"\n",
        "    return score, risk_level, indicators"
      ]
    },
    {
      "cell_type": "code",
      "execution_count": null,
      "metadata": {
        "id": "sFVBBC3xYQxv"
      },
      "outputs": [],
      "source": [
        "# MAIN ORCHESTRATOR FUNCTION\n",
        "def kyc_agent(id_card, selfie):\n",
        "    if id_card is None or selfie is None:\n",
        "        return \"Please upload both an ID card and a selfie.\"\n",
        "\n",
        "    raw_text = extract_text_from_id(id_card)\n",
        "    parsed_details = parse_kyc_details(raw_text)\n",
        "    face_message, faces_match = verify_faces(id_card, selfie)\n",
        "    fraud_score, risk_level, fraud_indicators = calculate_fraud_score(parsed_details, faces_match)\n",
        "\n",
        "    status = \"VERIFIED\"\n",
        "    if \"Not found\" in parsed_details.values() or not faces_match:\n",
        "        status = \"⚠️ MANUAL REVIEW REQUIRED\"\n",
        "    if \"CRITICAL ERROR\" in face_message:\n",
        "        status = \"PROCESSING ERROR\"\n",
        "\n",
        "    report = f\"\"\"\n",
        "KYC Verification Results\n",
        "Status: {status}\n",
        "Timestamp: {datetime.now().isoformat()}\n",
        "\n",
        "📄 Extracted Document Data\n",
        "Name: {parsed_details['Name']}\n",
        "Document Number: {parsed_details['Document Number']}\n",
        "Date Of Birth: {parsed_details['Date Of Birth']}\n",
        "Issue Date: {parsed_details['Issue Date']}\n",
        "Address: {parsed_details['Address']}\n",
        "Nationality: {parsed_details['Nationality']}\n",
        "\n",
        "👤 Face Verification\n",
        "Message: {face_message}\n",
        "\n",
        "🔍 Fraud Detection\n",
        "Fraud Score: {fraud_score}/100\n",
        "Risk Level: {risk_level}\n",
        "Indicators:\n",
        "- {\"\\n- \".join(fraud_indicators) if fraud_indicators else \"No significant risk indicators found.\"}\n",
        "\"\"\"\n",
        "    return report"
      ]
    },
    {
      "cell_type": "code",
      "execution_count": null,
      "metadata": {
        "id": "xv87TjlZY-gD"
      },
      "outputs": [],
      "source": [
        "#GRADIO INTERFACE\n",
        "iface = gr.Interface(\n",
        "    fn=kyc_agent,\n",
        "    inputs=[\n",
        "        gr.Image(type=\"numpy\", label=\"Upload ID Card\"),\n",
        "        gr.Image(type=\"numpy\", label=\"Upload Selfie\")\n",
        "    ],\n",
        "    outputs=[\n",
        "        gr.Textbox(label=\"Verification Report\", lines=20)\n",
        "    ],\n",
        "    title=\"AI-Powered KYC Verification Agent\",\n",
        "    description=\"Upload an ID card and a selfie. The system will extract data, verify the face, and generate a risk report.\"\n",
        ")\n",
        "\n",
        "iface.launch(debug=True)"
      ]
    }
  ],
  "metadata": {
    "accelerator": "GPU",
    "colab": {
      "gpuType": "T4",
      "provenance": []
    },
    "kernelspec": {
      "display_name": "Python 3",
      "name": "python3"
    },
    "language_info": {
      "name": "python"
    }
  },
  "nbformat": 4,
  "nbformat_minor": 0
}
